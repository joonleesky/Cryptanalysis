{
 "cells": [
  {
   "cell_type": "code",
   "execution_count": 1,
   "metadata": {
    "collapsed": true
   },
   "outputs": [],
   "source": [
    "import time\n",
    "import numpy as np"
   ]
  },
  {
   "cell_type": "markdown",
   "metadata": {},
   "source": [
    "### Parameters"
   ]
  },
  {
   "cell_type": "code",
   "execution_count": 2,
   "metadata": {
    "collapsed": true
   },
   "outputs": [],
   "source": [
    "q1 = 15383399235709406497\n",
    "g1 = 3\n",
    "h1 =  12036625823877237123\n",
    "x1 = 0\n",
    "\n",
    "q2 = 223\n",
    "g2 = 3\n",
    "h2 = 118\n",
    "x2 = 0\n",
    "\n",
    "c1 = 2695597157275121\n",
    "c2 = 151188505555671261"
   ]
  },
  {
   "cell_type": "markdown",
   "metadata": {},
   "source": [
    "### Get x_a'"
   ]
  },
  {
   "cell_type": "code",
   "execution_count": 4,
   "metadata": {},
   "outputs": [
    {
     "name": "stdout",
     "output_type": "stream",
     "text": [
      "x_a= 189\n"
     ]
    }
   ],
   "source": [
    "h_pred = 1\n",
    "for i in range(1,q2):\n",
    "    h_pred *= g2\n",
    "    h_pred %= q2\n",
    "    if(h_pred == h2):\n",
    "        x2 = i\n",
    "        print('x_a=',x2)"
   ]
  },
  {
   "cell_type": "markdown",
   "metadata": {},
   "source": [
    "### x_a = q2 * k + x_a'"
   ]
  },
  {
   "cell_type": "code",
   "execution_count": 5,
   "metadata": {},
   "outputs": [
    {
     "name": "stdout",
     "output_type": "stream",
     "text": [
      "3^189 % q1:  9102542540062670476\n",
      "3^223 % q1:  6504488417728282620\n"
     ]
    }
   ],
   "source": [
    "start = 1\n",
    "for _ in range(189):\n",
    "    start *= g2\n",
    "    start = start % q1\n",
    "\n",
    "interval = 1\n",
    "for _ in range(q2):\n",
    "    interval *= g2\n",
    "    interval = interval % q1\n",
    "\n",
    "print('3^189 % q1: ',start)\n",
    "print('3^223 % q1: ',interval)"
   ]
  },
  {
   "cell_type": "code",
   "execution_count": 6,
   "metadata": {},
   "outputs": [
    {
     "name": "stdout",
     "output_type": "stream",
     "text": [
      "index: 100000000 29.22079038619995\n",
      "index: 200000000 58.31131076812744\n",
      "index: 300000000 87.40251278877258\n",
      "index: 400000000 115.73657298088074\n",
      "index: 500000000 143.9417109489441\n",
      "index: 600000000 173.1516842842102\n",
      "index: 700000000 201.87481427192688\n",
      "index: 800000000 230.91075921058655\n",
      "index: 900000000 259.74120926856995\n",
      "[find!] index:906463618 x_a: 202141387003\n"
     ]
    }
   ],
   "source": [
    "start_time = time.time()\n",
    "h_pred = start # 3^187 % q1\n",
    "\n",
    "for i in range(1,int(1e10)):\n",
    "    h_pred *= interval # 3 ^ (233 * i + 187)\n",
    "    h_pred = h_pred % q1\n",
    "    if i % 1e8 == 0:\n",
    "        print('index:', i, time.time() - start_time)\n",
    "    if h_pred == h1:\n",
    "        x1 = i * q2 + x2\n",
    "        print('[find!] index:%d x_a: %d'%(i,x1))\n",
    "        break"
   ]
  },
  {
   "cell_type": "markdown",
   "metadata": {},
   "source": [
    "### Get K = h^r"
   ]
  },
  {
   "cell_type": "code",
   "execution_count": 18,
   "metadata": {},
   "outputs": [
    {
     "name": "stdout",
     "output_type": "stream",
     "text": [
      "211\n"
     ]
    }
   ],
   "source": [
    "K = fast_power(base = c1, power = x1, modulus = q1) # h^r\n",
    "inv_K = extended_euclidean_algorithm(b = K, m = q1)\n",
    "M = c2 * inv_K % q1\n",
    "print(M)"
   ]
  },
  {
   "cell_type": "code",
   "execution_count": 3,
   "metadata": {
    "collapsed": true
   },
   "outputs": [],
   "source": [
    "x1 = 202141387003"
   ]
  },
  {
   "cell_type": "code",
   "execution_count": 6,
   "metadata": {},
   "outputs": [
    {
     "data": {
      "text/plain": [
       "11155503656725568082"
      ]
     },
     "execution_count": 6,
     "metadata": {},
     "output_type": "execute_result"
    }
   ],
   "source": [
    "K = fast_power(base = c1, power = x1, modulus = q1) # h^r\n",
    "K"
   ]
  },
  {
   "cell_type": "code",
   "execution_count": 5,
   "metadata": {
    "collapsed": true
   },
   "outputs": [],
   "source": [
    "from utils import *"
   ]
  },
  {
   "cell_type": "code",
   "execution_count": null,
   "metadata": {
    "collapsed": true
   },
   "outputs": [],
   "source": []
  },
  {
   "cell_type": "code",
   "execution_count": null,
   "metadata": {
    "collapsed": true
   },
   "outputs": [],
   "source": []
  }
 ],
 "metadata": {
  "kernelspec": {
   "display_name": "Python 3",
   "language": "python",
   "name": "python3"
  },
  "language_info": {
   "codemirror_mode": {
    "name": "ipython",
    "version": 3
   },
   "file_extension": ".py",
   "mimetype": "text/x-python",
   "name": "python",
   "nbconvert_exporter": "python",
   "pygments_lexer": "ipython3",
   "version": "3.6.3"
  }
 },
 "nbformat": 4,
 "nbformat_minor": 2
}
