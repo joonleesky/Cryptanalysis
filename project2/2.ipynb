{
 "cells": [
  {
   "cell_type": "code",
   "execution_count": 1,
   "metadata": {
    "collapsed": true
   },
   "outputs": [],
   "source": [
    "import time"
   ]
  },
  {
   "cell_type": "markdown",
   "metadata": {},
   "source": [
    "### Parameters"
   ]
  },
  {
   "cell_type": "code",
   "execution_count": 2,
   "metadata": {
    "collapsed": true
   },
   "outputs": [],
   "source": [
    "q = 15383399235709406497\n",
    "g = 3\n",
    "\n",
    "y_a = 3255928389273017819\n",
    "y_b = 11684492152538608742"
   ]
  },
  {
   "cell_type": "code",
   "execution_count": 3,
   "metadata": {
    "collapsed": true
   },
   "outputs": [],
   "source": [
    "PT  = [617, 971, 593, 727, 941, 929]\n",
    "C1 = [5789380000885006824, 6723788799415707768, 1029065429573303880,\n",
    "      8312893525486221525, 9080799428929904607, 11441152005810554293]\n",
    "C2 = [11291912043825867299, 13684159171336976888,  6997743734870796489,\n",
    "      10093089531357232428,  710389074863998323,  3403071905801497309]"
   ]
  },
  {
   "cell_type": "code",
   "execution_count": 4,
   "metadata": {
    "collapsed": true
   },
   "outputs": [],
   "source": [
    "g_r = 8312893525486221525\n",
    "M_mul_g_xar = 7825868133432246571"
   ]
  },
  {
   "cell_type": "code",
   "execution_count": 5,
   "metadata": {},
   "outputs": [
    {
     "name": "stdout",
     "output_type": "stream",
     "text": [
      "index: 1000000000 239.48550701141357\n",
      "index: 2000000000 497.1725034713745\n",
      "index: 3000000000 757.0056359767914\n",
      "index: 4000000000 1016.3188467025757\n",
      "[find!] x_b:4365732901\n"
     ]
    }
   ],
   "source": [
    "start_time = time.time()\n",
    "\n",
    "y_b_pred = 1\n",
    "for i in range(1,int(1e10)):\n",
    "    y_b_pred *= g\n",
    "    y_b_pred = y_b_pred % q\n",
    "    if i % 1e9 == 0:\n",
    "        print('index:', i, time.time() - start_time)\n",
    "    if(y_b_pred == y_b):\n",
    "        x_b = i\n",
    "        print('[find!] x_b:%d'%(x_b))\n",
    "        break"
   ]
  },
  {
   "cell_type": "code",
   "execution_count": 7,
   "metadata": {
    "collapsed": true
   },
   "outputs": [],
   "source": [
    "from utils import *"
   ]
  },
  {
   "cell_type": "code",
   "execution_count": 8,
   "metadata": {},
   "outputs": [
    {
     "data": {
      "text/plain": [
       "5819000136817515535"
      ]
     },
     "execution_count": 8,
     "metadata": {},
     "output_type": "execute_result"
    }
   ],
   "source": [
    "inv_m  = extended_euclidean_algorithm(PT[3], q)\n",
    "g_xabr = C2[3] * inv_m % q \n",
    "inv_g_xabr = extended_euclidean_algorithm(g_xabr, q)\n",
    "M_b_mul_g_xabr = fast_power(M_mul_g_xar, x_b, q)\n",
    "M_b = M_b_mul_g_xabr * inv_g_xabr % q\n",
    "M_b"
   ]
  },
  {
   "cell_type": "code",
   "execution_count": 9,
   "metadata": {},
   "outputs": [
    {
     "name": "stdout",
     "output_type": "stream",
     "text": [
      "[find] M2: 35281\n"
     ]
    }
   ],
   "source": [
    "for m in range(100000):\n",
    "    M_b_pred = fast_power(m, x_b, q)\n",
    "    if(M_b_pred == M_b):\n",
    "        print('[find] M2:',m)\n",
    "        break"
   ]
  },
  {
   "cell_type": "code",
   "execution_count": null,
   "metadata": {
    "collapsed": true
   },
   "outputs": [],
   "source": []
  }
 ],
 "metadata": {
  "kernelspec": {
   "display_name": "Python 3",
   "language": "python",
   "name": "python3"
  },
  "language_info": {
   "codemirror_mode": {
    "name": "ipython",
    "version": 3
   },
   "file_extension": ".py",
   "mimetype": "text/x-python",
   "name": "python",
   "nbconvert_exporter": "python",
   "pygments_lexer": "ipython3",
   "version": "3.6.3"
  }
 },
 "nbformat": 4,
 "nbformat_minor": 2
}
