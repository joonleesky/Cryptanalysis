{
 "cells": [
  {
   "cell_type": "code",
   "execution_count": 5,
   "metadata": {
    "collapsed": true
   },
   "outputs": [],
   "source": [
    "import time\n",
    "from utils import *"
   ]
  },
  {
   "cell_type": "code",
   "execution_count": 29,
   "metadata": {
    "collapsed": true
   },
   "outputs": [],
   "source": [
    "q = 15383399235709406497\n",
    "g = 3\n",
    "\n",
    "y_a = 3255928389273017819\n",
    "x_b = 4365732901\n",
    "y_b = 11684492152538608742"
   ]
  },
  {
   "cell_type": "code",
   "execution_count": 3,
   "metadata": {
    "collapsed": true
   },
   "outputs": [],
   "source": [
    "PT  = [617, 971, 593, 727, 941, 929]\n",
    "C1 = [5789380000885006824, 6723788799415707768, 1029065429573303880,\n",
    "      8312893525486221525, 9080799428929904607, 11441152005810554293]\n",
    "C2 = [11291912043825867299, 13684159171336976888,  6997743734870796489,\n",
    "      10093089531357232428,  710389074863998323,  3403071905801497309]"
   ]
  },
  {
   "cell_type": "code",
   "execution_count": 61,
   "metadata": {
    "collapsed": true
   },
   "outputs": [],
   "source": [
    "g_r_1 = 8312893525486221525\n",
    "M2_mul_g_xar1 = 7825868133432246571\n",
    "\n",
    "g_r_2= 4232920939787140673\n",
    "M3_mul_g_xar2 = 12594363607212086362"
   ]
  },
  {
   "cell_type": "code",
   "execution_count": 75,
   "metadata": {},
   "outputs": [
    {
     "name": "stdout",
     "output_type": "stream",
     "text": [
      "g^(r1+r2) =  3\n",
      "r1+r2 =  1\n"
     ]
    }
   ],
   "source": [
    "g_r1r2 = g_r_1 * g_r_2 % q\n",
    "print('g^(r1+r2) = ',g_r1r2)\n",
    "print('r1+r2 = ',1)"
   ]
  },
  {
   "cell_type": "code",
   "execution_count": 76,
   "metadata": {},
   "outputs": [
    {
     "name": "stdout",
     "output_type": "stream",
     "text": [
      "M2*M3= 1631287597\n"
     ]
    }
   ],
   "source": [
    "M2M3_mult_gxa = M2_mul_g_xar1 * M3_mul_g_xar2 % q\n",
    "inv_gxa  = extended_euclidean_algorithm(y_a, q)\n",
    "M2M3 = M2M3_mult_gxa * inv_gxa % q \n",
    "print('M2*M3=',M2M3)"
   ]
  }
 ],
 "metadata": {
  "kernelspec": {
   "display_name": "Python 3",
   "language": "python",
   "name": "python3"
  },
  "language_info": {
   "codemirror_mode": {
    "name": "ipython",
    "version": 3
   },
   "file_extension": ".py",
   "mimetype": "text/x-python",
   "name": "python",
   "nbconvert_exporter": "python",
   "pygments_lexer": "ipython3",
   "version": "3.6.3"
  }
 },
 "nbformat": 4,
 "nbformat_minor": 2
}
